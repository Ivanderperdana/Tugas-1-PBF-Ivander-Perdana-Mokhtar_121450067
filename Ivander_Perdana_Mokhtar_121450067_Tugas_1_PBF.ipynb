{
  "nbformat": 4,
  "nbformat_minor": 0,
  "metadata": {
    "colab": {
      "provenance": []
    },
    "kernelspec": {
      "name": "python3",
      "display_name": "Python 3"
    },
    "language_info": {
      "name": "python"
    }
  },
  "cells": [
    {
      "cell_type": "code",
      "execution_count": 21,
      "metadata": {
        "id": "5JvLJ_sK6429"
      },
      "outputs": [],
      "source": [
        "def encrypt_password(password):\n",
        "  if len(password) > 100:\n",
        "    return \"Error, karakter lebih dari 100\"\n",
        "\n",
        "  encrypted_password = \"\"\n",
        "  for char in password:\n",
        "    ascii_value = ord(char)\n",
        "    first_value = int((ascii_value / 26) + 80)\n",
        "    second_value = (ascii_value % 26) + 80\n",
        "    third_value = '+' if first_value > second_value else '-'\n",
        "    encrypted_password += chr(first_value) + chr(second_value) + third_value\n",
        "\n",
        "  return encrypted_password\n"
      ]
    },
    {
      "cell_type": "code",
      "source": [
        "print(encrypt_password(\"bismillahnilaibagus\"))"
      ],
      "metadata": {
        "id": "HS0y55kHLjRE",
        "outputId": "31534dae-a9a6-4af8-c665-5e989f46372b",
        "colab": {
          "base_uri": "https://localhost:8080/"
        }
      },
      "execution_count": 23,
      "outputs": [
        {
          "output_type": "stream",
          "name": "stdout",
          "text": [
            "Sd-TQ+T[-TU-TQ+TT-TT-Sc-TP+TV-TQ+TT-Sc-TQ+Sd-Sc-Si-T]-T[-\n"
          ]
        }
      ]
    }
  ]
}